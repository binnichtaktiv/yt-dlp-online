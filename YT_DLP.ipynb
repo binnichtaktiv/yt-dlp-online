{
  "nbformat": 4,
  "nbformat_minor": 0,
  "metadata": {
    "colab": {
      "provenance": [],
      "authorship_tag": "ABX9TyOxAn4agrb3S//N8j+wK02w",
      "include_colab_link": true
    },
    "kernelspec": {
      "name": "python3",
      "display_name": "Python 3"
    },
    "language_info": {
      "name": "python"
    }
  },
  "cells": [
    {
      "cell_type": "markdown",
      "metadata": {
        "id": "view-in-github",
        "colab_type": "text"
      },
      "source": [
        "<a href=\"https://colab.research.google.com/github/binnichtaktiv/yt-dlp-online/blob/main/YT_DLP.ipynb\" target=\"_parent\"><img src=\"https://colab.research.google.com/assets/colab-badge.svg\" alt=\"Open In Colab\"/></a>"
      ]
    },
    {
      "cell_type": "markdown",
      "source": [
        "Download videos/audio without a PC\n",
        "made by @binnichtaktiv for https://t.me/binnichtaktivsipas\n",
        "\n",
        "Supported sites you can download from: https://github.com/yt-dlp/yt-dlp/blob/master/supportedsites.md\n",
        "\n",
        "Tap on the play button to start"
      ],
      "metadata": {
        "id": "2ka5dX4eNtnp"
      }
    },
    {
      "cell_type": "code",
      "execution_count": 9,
      "metadata": {
        "id": "C5Y-QWmdNrKk",
        "cellView": "form",
        "outputId": "37e2a60c-e22c-449a-fec6-2a1bab92fefe",
        "colab": {
          "base_uri": "https://localhost:8080/",
          "height": 538
        }
      },
      "outputs": [
        {
          "output_type": "stream",
          "name": "stdout",
          "text": [
            "Enter the link of the audio/video you want to download:\n",
            "https://www.youtube.com/watch?v=CsPTyw_8QL0\n",
            "Please enter the desired format\n",
            "\n",
            "(leave blank for mp4):\n",
            "mp3\n",
            "[!] executing: ['yt-dlp', '-f', 'bestaudio', '-x', '--audio-format', 'mp3', 'https://www.youtube.com/watch?v=CsPTyw_8QL0']\n",
            "[youtube] Extracting URL: https://www.youtube.com/watch?v=CsPTyw_8QL0\n",
            "[youtube] CsPTyw_8QL0: Downloading webpage\n",
            "[youtube] CsPTyw_8QL0: Downloading ios player API JSON\n",
            "[youtube] CsPTyw_8QL0: Downloading player bc657243\n",
            "[youtube] CsPTyw_8QL0: Downloading m3u8 information\n",
            "[info] CsPTyw_8QL0: Downloading 1 format(s): 251\n",
            "[download] Destination: Too Many Nights (Slowed + Reverb) [CsPTyw_8QL0].webm\n",
            "\n",
            "[download]   0.0% of    3.41MiB at  Unknown B/s ETA Unknown\n",
            "[download]   0.1% of    3.41MiB at    2.06MiB/s ETA 00:01  \n",
            "[download]   0.2% of    3.41MiB at    3.17MiB/s ETA 00:01\n",
            "[download]   0.4% of    3.41MiB at    5.12MiB/s ETA 00:00\n",
            "[download]   0.9% of    3.41MiB at    8.39MiB/s ETA 00:00\n",
            "[download]   1.8% of    3.41MiB at    8.80MiB/s ETA 00:00\n",
            "[download]   3.6% of    3.41MiB at   10.63MiB/s ETA 00:00\n",
            "[download]   7.3% of    3.41MiB at   15.62MiB/s ETA 00:00\n",
            "[download]  14.6% of    3.41MiB at   23.92MiB/s ETA 00:00\n",
            "[download]  29.3% of    3.41MiB at   39.37MiB/s ETA 00:00\n",
            "[download]  58.6% of    3.41MiB at   66.34MiB/s ETA 00:00\n",
            "[download] 100.0% of    3.41MiB at   97.30MiB/s ETA 00:00\n",
            "[download] 100% of    3.41MiB in 00:00:00 at 54.52MiB/s  \n",
            "[ExtractAudio] Destination: Too Many Nights (Slowed + Reverb) [CsPTyw_8QL0].mp3\n",
            "Deleting original file Too Many Nights (Slowed + Reverb) [CsPTyw_8QL0].webm (pass -k to keep)\n"
          ]
        },
        {
          "output_type": "display_data",
          "data": {
            "text/plain": [
              "<IPython.core.display.Javascript object>"
            ],
            "application/javascript": [
              "\n",
              "    async function download(id, filename, size) {\n",
              "      if (!google.colab.kernel.accessAllowed) {\n",
              "        return;\n",
              "      }\n",
              "      const div = document.createElement('div');\n",
              "      const label = document.createElement('label');\n",
              "      label.textContent = `Downloading \"${filename}\": `;\n",
              "      div.appendChild(label);\n",
              "      const progress = document.createElement('progress');\n",
              "      progress.max = size;\n",
              "      div.appendChild(progress);\n",
              "      document.body.appendChild(div);\n",
              "\n",
              "      const buffers = [];\n",
              "      let downloaded = 0;\n",
              "\n",
              "      const channel = await google.colab.kernel.comms.open(id);\n",
              "      // Send a message to notify the kernel that we're ready.\n",
              "      channel.send({})\n",
              "\n",
              "      for await (const message of channel.messages) {\n",
              "        // Send a message to notify the kernel that we're ready.\n",
              "        channel.send({})\n",
              "        if (message.buffers) {\n",
              "          for (const buffer of message.buffers) {\n",
              "            buffers.push(buffer);\n",
              "            downloaded += buffer.byteLength;\n",
              "            progress.value = downloaded;\n",
              "          }\n",
              "        }\n",
              "      }\n",
              "      const blob = new Blob(buffers, {type: 'application/binary'});\n",
              "      const a = document.createElement('a');\n",
              "      a.href = window.URL.createObjectURL(blob);\n",
              "      a.download = filename;\n",
              "      div.appendChild(a);\n",
              "      a.click();\n",
              "      div.remove();\n",
              "    }\n",
              "  "
            ]
          },
          "metadata": {}
        },
        {
          "output_type": "display_data",
          "data": {
            "text/plain": [
              "<IPython.core.display.Javascript object>"
            ],
            "application/javascript": [
              "download(\"download_bb225ec3-235b-4dd0-acbe-662b8886ea0f\", \"Too Many Nights (Slowed + Reverb).mp3\", 3643965)"
            ]
          },
          "metadata": {}
        }
      ],
      "source": [
        "# @title yt-dlp\n",
        "from google.colab import files\n",
        "from IPython.display import clear_output\n",
        "import subprocess, re, os, time, shutil\n",
        "\n",
        "!pip install -q yt-dlp\n",
        "!apt-get install -y ffmpeg\n",
        "tempdir = \"/content/download_temp\"\n",
        "if os.path.exists(tempdir):\n",
        "    shutil.rmtree(tempdir)\n",
        "os.makedirs(tempdir)\n",
        "os.chdir(tempdir)\n",
        "time.sleep(1)\n",
        "clear_output()\n",
        "time.sleep(1)\n",
        "\n",
        "video_link = input(\"Enter the link of the audio/video you want to download:\\n\")\n",
        "file_format = input(\"Please enter the desired format\\n\\n(leave blank for mp4):\\n\")\n",
        "if file_format == \"\":\n",
        "    file_format = \"mp4\"\n",
        "\n",
        "common_audio = [\"mp3\", \"m4a\", \"flac\", \"wav\", \"opus\", \"aac\"]\n",
        "\n",
        "if file_format in common_audio:\n",
        "  cmd = [\"yt-dlp\", \"-f\", \"bestaudio\", \"-x\", \"--audio-format\", file_format, video_link]\n",
        "\n",
        "else:\n",
        "  cmd = [\"yt-dlp\", \"-f\", \"bestvideo+bestaudio\", \"--merge-output-format\", file_format, video_link]\n",
        "print(\"[!] executing:\", cmd)\n",
        "process = subprocess.Popen(cmd, stdout=subprocess.PIPE, stderr=subprocess.STDOUT, text=True)\n",
        "for line in process.stdout:\n",
        "    print(line, end='')\n",
        "for filename in os.listdir(tempdir):\n",
        "  dir =  os.listdir(tempdir)\n",
        "\n",
        "for filename in os.listdir(tempdir):\n",
        "  if os.path.isfile(os.path.join(tempdir, filename)):\n",
        "      new_filename = re.sub(r'\\[.*?\\]', '', filename).strip()\n",
        "      new_filename = re.sub(r'\\s+(\\.\\w{3,4})$', r'\\1', new_filename)\n",
        "      os.rename(os.path.join(tempdir, filename), os.path.join(tempdir, new_filename))\n",
        "\n",
        "dl_file = tempdir + \"/\" + new_filename\n",
        "files.download(dl_file)"
      ]
    }
  ]
}