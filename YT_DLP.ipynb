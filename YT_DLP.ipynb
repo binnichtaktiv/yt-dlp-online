{
  "nbformat": 4,
  "nbformat_minor": 0,
  "metadata": {
    "colab": {
      "provenance": [],
      "authorship_tag": "ABX9TyNcJAe743t6mhtXqcfB/GVd",
      "include_colab_link": true
    },
    "kernelspec": {
      "name": "python3",
      "display_name": "Python 3"
    },
    "language_info": {
      "name": "python"
    }
  },
  "cells": [
    {
      "cell_type": "markdown",
      "metadata": {
        "id": "view-in-github",
        "colab_type": "text"
      },
      "source": [
        "<a href=\"https://colab.research.google.com/github/binnichtaktiv/yt-dlp-online/blob/main/YT_DLP.ipynb\" target=\"_parent\"><img src=\"https://colab.research.google.com/assets/colab-badge.svg\" alt=\"Open In Colab\"/></a>"
      ]
    },
    {
      "cell_type": "markdown",
      "source": [
        "Download videos/audio without a PC\n",
        "made by @binnichtaktiv for https://t.me/binnichtaktivsipas\n",
        "\n",
        "Supported sites you can download from: https://github.com/yt-dlp/yt-dlp/blob/master/supportedsites.md"
      ],
      "metadata": {
        "id": "2ka5dX4eNtnp"
      }
    },
    {
      "cell_type": "code",
      "execution_count": null,
      "metadata": {
        "id": "C5Y-QWmdNrKk"
      },
      "outputs": [],
      "source": [
        "from google.colab import files\n",
        "from IPython.display import clear_output\n",
        "import subprocess, re, os\n",
        "\n",
        "video_link = input(\"Enter the link of the audio/video you want to download:\\n\")\n",
        "file_format = input(\"Enter file format:\\n(currently 3gp, aac, flv, m4a, mp3, mp4, ogg, wav, webm are supported)\\nPress return for mp4\\n\")\n",
        "!pip install -q yt-dlp\n",
        "!apt-get install -y ffmpeg\n",
        "clear_output()\n",
        "if file_format == \"\":\n",
        "    file_format = \"mp4\"\n",
        "\n",
        "output = \"\"\n",
        "\n",
        "cmd = ['yt-dlp','-f',file_format, video_link]\n",
        "process = subprocess.Popen(cmd, stdout=subprocess.PIPE, stderr=subprocess.STDOUT, text=True)\n",
        "for line in process.stdout:\n",
        "    print(line, end='')\n",
        "    output += line\n",
        "process.wait()\n",
        "\n",
        "if \"Requested format is not available\" in output:\n",
        "    print(\"\\nRequested format not available. Trying to download as \" + file_format)\n",
        "    cmd = ['yt-dlp', '-x', '--audio-format', file_format, video_link]\n",
        "    process = subprocess.Popen(cmd, stdout=subprocess.PIPE, stderr=subprocess.STDOUT, text=True)\n",
        "    for line in process.stdout:\n",
        "        print(line, end='')\n",
        "        output += line\n",
        "    process.wait()\n",
        "\n",
        "filename_match = re.search(r\"\\[ExtractAudio\\] Destination: (.*)\", output)\n",
        "if not filename_match:\n",
        "    filename_match = re.search(r\"\\[download\\] Destination: (.*)\", output)\n",
        "\n",
        "if filename_match:\n",
        "    filename = filename_match.group(1)\n",
        "    cleaned_filename = re.sub(r'\\s*\\[.*?\\](?=\\.\\w+$)', '', filename)\n",
        "    if filename != cleaned_filename:\n",
        "        os.rename(filename, cleaned_filename)\n",
        "\n",
        "files.download(cleaned_filename)"
      ]
    },
    {
      "cell_type": "markdown",
      "source": [],
      "metadata": {
        "id": "MDHCVMKqNsim"
      }
    }
  ]
}