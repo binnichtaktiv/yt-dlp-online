{
  "nbformat": 4,
  "nbformat_minor": 0,
  "metadata": {
    "colab": {
      "provenance": [],
      "authorship_tag": "ABX9TyOduqyIEC7/kuDsZgkFFTbf",
      "include_colab_link": true
    },
    "kernelspec": {
      "name": "python3",
      "display_name": "Python 3"
    },
    "language_info": {
      "name": "python"
    }
  },
  "cells": [
    {
      "cell_type": "markdown",
      "metadata": {
        "id": "view-in-github",
        "colab_type": "text"
      },
      "source": [
        "<a href=\"https://colab.research.google.com/github/binnichtaktiv/yt-dlp-online/blob/main/YT_DLP.ipynb\" target=\"_parent\"><img src=\"https://colab.research.google.com/assets/colab-badge.svg\" alt=\"Open In Colab\"/></a>"
      ]
    },
    {
      "cell_type": "markdown",
      "source": [
        "Download videos/audio without a PC\n",
        "made by @binnichtaktiv for https://t.me/binnichtaktivsipas\n",
        "\n",
        "Supported sites you can download from: https://github.com/yt-dlp/yt-dlp/blob/master/supportedsites.md\n",
        "\n",
        "Tap on the play button to start"
      ],
      "metadata": {
        "id": "2ka5dX4eNtnp"
      }
    },
    {
      "cell_type": "code",
      "execution_count": null,
      "metadata": {
        "id": "C5Y-QWmdNrKk",
        "cellView": "form"
      },
      "outputs": [],
      "source": [
        "# @title yt-dlp\n",
        "from google.colab import files\n",
        "from IPython.display import clear_output\n",
        "import subprocess, re, os, time, shutil\n",
        "\n",
        "!pip install -q yt-dlp\n",
        "!apt-get install -y ffmpeg\n",
        "tempdir = \"/content/download_temp\"\n",
        "if os.path.exists(tempdir):\n",
        "    shutil.rmtree(tempdir)\n",
        "os.makedirs(tempdir)\n",
        "os.chdir(tempdir)\n",
        "time.sleep(1)\n",
        "clear_output()\n",
        "time.sleep(1)\n",
        "\n",
        "video_link = input(\"Enter the link of the audio/video you want to download:\\n\")\n",
        "file_format = input(\"Please enter the desired format\\n\\n(leave blank for mp4):\\n\")\n",
        "if file_format == \"\":\n",
        "    file_format = \"mp4\"\n",
        "cmd = [\"yt-dlp\", \"-f\", \"bestvideo+bestaudio\", \"--merge-output-format\", file_format, video_link]\n",
        "print(\"[!] executing:\", cmd)\n",
        "process = subprocess.Popen(cmd, stdout=subprocess.PIPE, stderr=subprocess.STDOUT, text=True)\n",
        "for line in process.stdout:\n",
        "    print(line, end='')\n",
        "for filename in os.listdir(tempdir):\n",
        "  dir =  os.listdir(tempdir)\n",
        "\n",
        "for filename in os.listdir(tempdir):\n",
        "  if os.path.isfile(os.path.join(tempdir, filename)):\n",
        "      new_filename = re.sub(r'\\[.*?\\]', '', filename).strip()\n",
        "      os.rename(os.path.join(tempdir, filename), os.path.join(tempdir, new_filename))\n",
        "\n",
        "dl_file = tempdir + \"/\" + new_filename\n",
        "files.download(dl_file)"
      ]
    }
  ]
}