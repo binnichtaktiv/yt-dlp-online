{
  "nbformat": 4,
  "nbformat_minor": 0,
  "metadata": {
    "colab": {
      "provenance": [],
      "authorship_tag": "ABX9TyNC98UnjeYkXX2xcCq+E/kU",
      "include_colab_link": true
    },
    "kernelspec": {
      "name": "python3",
      "display_name": "Python 3"
    },
    "language_info": {
      "name": "python"
    }
  },
  "cells": [
    {
      "cell_type": "markdown",
      "metadata": {
        "id": "view-in-github",
        "colab_type": "text"
      },
      "source": [
        "<a href=\"https://colab.research.google.com/github/binnichtaktiv/yt-dlp-online/blob/main/YT_DLP.ipynb\" target=\"_parent\"><img src=\"https://colab.research.google.com/assets/colab-badge.svg\" alt=\"Open In Colab\"/></a>"
      ]
    },
    {
      "cell_type": "markdown",
      "source": [
        "Download videos/audio without a PC\n",
        "made by @binnichtaktiv for https://t.me/binnichtaktivsipas\n",
        "\n",
        "Supported sites you can download from: https://github.com/yt-dlp/yt-dlp/blob/master/supportedsites.md"
      ],
      "metadata": {
        "id": "2ka5dX4eNtnp"
      }
    },
    {
      "cell_type": "code",
      "execution_count": null,
      "metadata": {
        "id": "C5Y-QWmdNrKk"
      },
      "outputs": [],
      "source": [
        "# @title yt-dlp\n",
        "from google.colab import files\n",
        "from IPython.display import clear_output\n",
        "import subprocess, re, os, time\n",
        "\n",
        "!pip install -q yt-dlp\n",
        "!apt-get install -y ffmpeg\n",
        "os.makedirs('download_temp')\n",
        "os.chdir('download_temp')\n",
        "time.sleep(1)\n",
        "clear_output()\n",
        "time.sleep(1)\n",
        "\n",
        "video_link = input(\"Enter the link of the audio/video you want to download:\\n\")\n",
        "file_format = input(\"Please enter the desired format\\n\\n(leave blank for mp4)\\n\\n!!currently only mp3 and mp4 are stable:\\n\")\n",
        "if file_format == \"\":\n",
        "    file_format = \"mp4\"\n",
        "\n",
        "if file_format == 'mp3':\n",
        "    cmd = ['yt-dlp', '-x', '--audio-format', 'mp3', '--audio-quality', '0', video_link]\n",
        "    need_convert = False\n",
        "elif file_format == 'mp4':\n",
        "    cmd = ['yt-dlp', '-f', 'bestvideo+bestaudio/best', '--merge-output-format', 'mp4', video_link]\n",
        "    need_convert = False\n",
        "else:\n",
        "    cmd = ['yt-dlp', '-f', 'bestvideo+bestaudio/best', '--merge-output-format', 'mp4', video_link]\n",
        "    need_convert = True\n",
        "\n",
        "process = subprocess.Popen(cmd, stdout=subprocess.PIPE, stderr=subprocess.STDOUT, text=True)\n",
        "for line in process.stdout:\n",
        "    print(line, end='')\n",
        "process.wait()\n",
        "\n",
        "time.sleep(2)\n",
        "directory = os.getcwd()\n",
        "file_list = os.listdir(directory)\n",
        "mp_files = [file for file in file_list if file.endswith('.mp4') or file.endswith('.mp3')]\n",
        "extr_filename = mp_files[0][:-4]\n",
        "\n",
        "if need_convert == True:\n",
        "    convert_cmd = ['ffmpeg', '-i', f'{extr_filename}.mp4', '-c:v', 'copy', '-c:a', 'copy', f'{extr_filename}.{file_format}']\n",
        "    process2 = subprocess.Popen(convert_cmd, stdout=subprocess.PIPE, stderr=subprocess.STDOUT, text=True)\n",
        "    for line in process2.stdout:\n",
        "        print(line, end='')\n",
        "    process2.wait()\n",
        "    download_file = f'{extr_filename}.{file_format}'\n",
        "    files.download(download_file)\n",
        "else:\n",
        "    download_file = f'{extr_filename}.{file_format}'\n",
        "    files.download(download_file)\n"
      ]
    },
    {
      "cell_type": "markdown",
      "source": [],
      "metadata": {
        "id": "MDHCVMKqNsim"
      }
    }
  ]
}